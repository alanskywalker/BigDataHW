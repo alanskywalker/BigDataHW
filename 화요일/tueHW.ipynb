{
 "cells": [
  {
   "cell_type": "markdown",
   "metadata": {},
   "source": [
    "### 105번"
   ]
  },
  {
   "cell_type": "code",
   "execution_count": 10,
   "metadata": {},
   "outputs": [
    {
     "name": "stdout",
     "output_type": "stream",
     "text": [
      "1\n",
      "5\n",
      "2\n",
      "-5\n",
      "-1\n",
      "0\n"
     ]
    },
    {
     "data": {
      "text/plain": [
       "['-1', '-5', '2', '5', '1']"
      ]
     },
     "execution_count": 10,
     "metadata": {},
     "output_type": "execute_result"
    }
   ],
   "source": [
    "i=0\n",
    "l = []\n",
    "while True:\n",
    "    a=input()\n",
    "    if a=='0':\n",
    "        break\n",
    "    l.append(a)\n",
    "k=l[::-1]\n",
    "k"
   ]
  },
  {
   "cell_type": "markdown",
   "metadata": {},
   "source": [
    "### 107번"
   ]
  },
  {
   "cell_type": "code",
   "execution_count": 3,
   "metadata": {},
   "outputs": [
    {
     "name": "stdout",
     "output_type": "stream",
     "text": [
      "first\n",
      "second\n",
      "first\n",
      "third\n",
      "second\n",
      " \n",
      "first\n",
      "second\n",
      "third\n"
     ]
    }
   ],
   "source": [
    "i=0\n",
    "l = []\n",
    "while True:\n",
    "    a=input()\n",
    "    if a==' ':\n",
    "        break\n",
    "    l.append(a)\n",
    "\n",
    "k = list(set(l))\n",
    "\n",
    "for i in k:\n",
    "    print(i)"
   ]
  },
  {
   "cell_type": "markdown",
   "metadata": {},
   "source": [
    "### 108번"
   ]
  },
  {
   "cell_type": "code",
   "execution_count": 4,
   "metadata": {},
   "outputs": [
    {
     "name": "stdout",
     "output_type": "stream",
     "text": [
      "3\n",
      "-4\n",
      "1\n",
      "0\n",
      "-1\n",
      "0\n",
      "-2\n",
      " \n"
     ]
    },
    {
     "data": {
      "text/plain": [
       "[-4, -1, -2, 0, 0, 3, 1]"
      ]
     },
     "execution_count": 4,
     "metadata": {},
     "output_type": "execute_result"
    }
   ],
   "source": [
    "i=0\n",
    "i = []\n",
    "j=[]\n",
    "k=[]\n",
    "while True:\n",
    "    a=input()\n",
    "    if a==' ':\n",
    "        break\n",
    "    a=int(a)\n",
    "    if(a<0):\n",
    "        i.append(a)\n",
    "    elif(a==0):\n",
    "        j.append(a)\n",
    "    elif(a>0):\n",
    "        k.append(a)\n",
    "result = i+j+k\n",
    "result"
   ]
  },
  {
   "cell_type": "markdown",
   "metadata": {},
   "source": [
    "### 110-1"
   ]
  },
  {
   "cell_type": "code",
   "execution_count": 5,
   "metadata": {},
   "outputs": [
    {
     "name": "stdout",
     "output_type": "stream",
     "text": [
      "숫자입력하세요28\n"
     ]
    },
    {
     "data": {
      "text/plain": [
       "True"
      ]
     },
     "execution_count": 5,
     "metadata": {},
     "output_type": "execute_result"
    }
   ],
   "source": [
    "c=int(input('숫자입력하세요'))\n",
    "\n",
    "b=1\n",
    "def judge(c):\n",
    "    a=0\n",
    "    for b in range (1,c):\n",
    "        if(c%b)==0:\n",
    "            a=a+b\n",
    "    if a==c:\n",
    "        return True\n",
    "    else:\n",
    "        return False\n",
    "judge(c)"
   ]
  },
  {
   "cell_type": "markdown",
   "metadata": {},
   "source": [
    "### 110-2"
   ]
  },
  {
   "cell_type": "code",
   "execution_count": 6,
   "metadata": {},
   "outputs": [
    {
     "name": "stdout",
     "output_type": "stream",
     "text": [
      "얼마까지?(10000)10000\n"
     ]
    },
    {
     "data": {
      "text/plain": [
       "[6, 28, 496, 8128]"
      ]
     },
     "execution_count": 6,
     "metadata": {},
     "output_type": "execute_result"
    }
   ],
   "source": [
    "max= int(input('얼마까지?(10000)'))\n",
    "\n",
    "문근영 = []\n",
    "\n",
    "\n",
    "b=1\n",
    "c=2\n",
    "while c<max:\n",
    "    a=0\n",
    "    for b in range (1,c):\n",
    "        if(c%b)==0:\n",
    "            a=a+b\n",
    "    if a==c:\n",
    "        문근영.append(a)\n",
    "    c=c+1\n",
    "    b=1\n",
    "문근영"
   ]
  },
  {
   "cell_type": "markdown",
   "metadata": {},
   "source": [
    "### 114번"
   ]
  },
  {
   "cell_type": "code",
   "execution_count": 7,
   "metadata": {},
   "outputs": [
    {
     "data": {
      "text/plain": [
       "[7, 11, 13, 15, 19, 30]"
      ]
     },
     "execution_count": 7,
     "metadata": {},
     "output_type": "execute_result"
    }
   ],
   "source": [
    "import random\n",
    "l=[]\n",
    "\n",
    "while True:\n",
    "    a=random.randrange(1,46)\n",
    "    l.append(a)\n",
    "    k=list(set(l))\n",
    "    if len(k)==6:\n",
    "        k.sort()\n",
    "        break\n",
    "\n",
    "k"
   ]
  },
  {
   "cell_type": "markdown",
   "metadata": {},
   "source": [
    "### 134번"
   ]
  },
  {
   "cell_type": "code",
   "execution_count": 8,
   "metadata": {},
   "outputs": [
    {
     "name": "stdout",
     "output_type": "stream",
     "text": [
      "Hello, World!\n"
     ]
    },
    {
     "data": {
      "text/plain": [
       "{' ', '!', ',', 'H', 'W', 'd', 'e', 'l', 'o', 'r'}"
      ]
     },
     "execution_count": 8,
     "metadata": {},
     "output_type": "execute_result"
    }
   ],
   "source": [
    "a=list(input())\n",
    "b=set(a)\n",
    "b"
   ]
  },
  {
   "cell_type": "markdown",
   "metadata": {},
   "source": [
    "### 135번"
   ]
  },
  {
   "cell_type": "code",
   "execution_count": 9,
   "metadata": {},
   "outputs": [
    {
     "name": "stdout",
     "output_type": "stream",
     "text": [
      "문자열 2개 입력하시오evil live\n",
      "evil\n",
      "live\n",
      "['e', 'i', 'l', 'v']\n",
      "['e', 'i', 'l', 'v']\n"
     ]
    },
    {
     "data": {
      "text/plain": [
       "True"
      ]
     },
     "execution_count": 9,
     "metadata": {},
     "output_type": "execute_result"
    }
   ],
   "source": [
    "def judge2():\n",
    "    a,b=input('문자열 2개 입력하시오').split()\n",
    "    print(a)\n",
    "    print(b)\n",
    "    i=list(set(a))\n",
    "    j=list(set(b))\n",
    "    if len(i) != len(j):\n",
    "        return False\n",
    "    q=0\n",
    "    i.sort()\n",
    "    j.sort()\n",
    "    print(i)\n",
    "    print(j)\n",
    "    for c in i:\n",
    "        if c not in j:\n",
    "            return False\n",
    "        q=q+1\n",
    "    return True\n",
    "\n",
    "judge2()"
   ]
  },
  {
   "cell_type": "markdown",
   "metadata": {},
   "source": [
    "### 113번"
   ]
  },
  {
   "cell_type": "code",
   "execution_count": 22,
   "metadata": {},
   "outputs": [
    {
     "name": "stdout",
     "output_type": "stream",
     "text": [
      "blank to finish appple\n",
      "blank to finish oranges\n",
      "blank to finish bananas\n",
      "blank to finish lemons\n",
      "blank to finish  \n",
      "appple, oranges, bananas, and  lemons\n"
     ]
    }
   ],
   "source": [
    "list = []\n",
    "def get():\n",
    "    count = 0\n",
    "    while True:\n",
    "        a=input('blank to finish ')\n",
    "        if a==' ':\n",
    "            break\n",
    "        count = count+1\n",
    "        list.append(a)\n",
    "    if count==0:\n",
    "        print('no input')\n",
    "        return\n",
    "    elif count==1:\n",
    "        print(list[0])\n",
    "        return\n",
    "    elif count==2:\n",
    "        print(list[0],' and ',list[1])\n",
    "    else:\n",
    "        for i in list:\n",
    "            if(count==1):\n",
    "                print('and ',i)\n",
    "                return\n",
    "            print(i,end=', ')\n",
    "            count = count-1\n",
    "\n",
    "get()\n"
   ]
  },
  {
   "cell_type": "code",
   "execution_count": null,
   "metadata": {},
   "outputs": [],
   "source": []
  },
  {
   "cell_type": "code",
   "execution_count": null,
   "metadata": {},
   "outputs": [],
   "source": []
  },
  {
   "cell_type": "code",
   "execution_count": null,
   "metadata": {},
   "outputs": [],
   "source": []
  },
  {
   "cell_type": "code",
   "execution_count": null,
   "metadata": {},
   "outputs": [],
   "source": []
  },
  {
   "cell_type": "code",
   "execution_count": null,
   "metadata": {},
   "outputs": [],
   "source": []
  }
 ],
 "metadata": {
  "kernelspec": {
   "display_name": "Python 3",
   "language": "python",
   "name": "python3"
  },
  "language_info": {
   "codemirror_mode": {
    "name": "ipython",
    "version": 3
   },
   "file_extension": ".py",
   "mimetype": "text/x-python",
   "name": "python",
   "nbconvert_exporter": "python",
   "pygments_lexer": "ipython3",
   "version": "3.6.5"
  }
 },
 "nbformat": 4,
 "nbformat_minor": 2
}
