{
 "cells": [
  {
   "cell_type": "code",
   "execution_count": 1,
   "metadata": {},
   "outputs": [
    {
     "name": "stdout",
     "output_type": "stream",
     "text": [
      "문자열 2개 입력하시오live evil\n",
      "live\n",
      "evil\n",
      "['e', 'i', 'l', 'v']\n",
      "['e', 'i', 'l', 'v']\n"
     ]
    },
    {
     "data": {
      "text/plain": [
       "True"
      ]
     },
     "execution_count": 1,
     "metadata": {},
     "output_type": "execute_result"
    }
   ],
   "source": [
    "def judge2():\n",
    "    a,b=input('문자열 2개 입력하시오').split()\n",
    "    print(a)\n",
    "    print(b)\n",
    "    i=list(set(a))\n",
    "    j=list(set(b))\n",
    "    if len(i) != len(j):\n",
    "        return False\n",
    "    q=0\n",
    "    i.sort()\n",
    "    j.sort()\n",
    "    print(i)\n",
    "    print(j)\n",
    "    for c in i:\n",
    "        if c not in j:\n",
    "            return False\n",
    "        q=q+1\n",
    "    return True\n",
    "\n",
    "judge2()"
   ]
  },
  {
   "cell_type": "code",
   "execution_count": 3,
   "metadata": {},
   "outputs": [
    {
     "name": "stdout",
     "output_type": "stream",
     "text": [
      "문자열 2개 입력하시오adam dam\n",
      "adam\n",
      "dam\n",
      "['a', 'd', 'm']\n",
      "['a', 'd', 'm']\n"
     ]
    },
    {
     "data": {
      "text/plain": [
       "True"
      ]
     },
     "execution_count": 3,
     "metadata": {},
     "output_type": "execute_result"
    }
   ],
   "source": [
    "judge2()"
   ]
  },
  {
   "cell_type": "code",
   "execution_count": 7,
   "metadata": {},
   "outputs": [
    {
     "name": "stdout",
     "output_type": "stream",
     "text": [
      "문자열 2개 입력하시오fjdlkjlkjsj fjkdlk\n",
      "fjdlkjlkjsj\n",
      "fjkdlk\n"
     ]
    },
    {
     "data": {
      "text/plain": [
       "False"
      ]
     },
     "execution_count": 7,
     "metadata": {},
     "output_type": "execute_result"
    }
   ],
   "source": [
    "judge2()"
   ]
  },
  {
   "cell_type": "code",
   "execution_count": null,
   "metadata": {},
   "outputs": [],
   "source": []
  }
 ],
 "metadata": {
  "kernelspec": {
   "display_name": "Python 3",
   "language": "python",
   "name": "python3"
  },
  "language_info": {
   "codemirror_mode": {
    "name": "ipython",
    "version": 3
   },
   "file_extension": ".py",
   "mimetype": "text/x-python",
   "name": "python",
   "nbconvert_exporter": "python",
   "pygments_lexer": "ipython3",
   "version": "3.6.5"
  }
 },
 "nbformat": 4,
 "nbformat_minor": 2
}
