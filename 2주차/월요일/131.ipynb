{
 "cells": [
  {
   "cell_type": "code",
   "execution_count": 9,
   "metadata": {},
   "outputs": [],
   "source": [
    "code = {'a':'_','b':'_...','c':'-.-.','d':'-..','e':'.'\n",
    "       ,'f':'..-.'\n",
    "       ,'g':'--.'\n",
    "       ,'h':'....'\n",
    "       ,'i':'..'\n",
    "       ,'j':'.---'\n",
    "      , 'k':'-.-'\n",
    "      , 'l':'.-..'\n",
    "      , 'm':'--'\n",
    "       ,'n':'-.'\n",
    "    ,   'o':'---'\n",
    " ,      'p':'.--.'\n",
    "  ,     'q':'--.-'\n",
    "  ,      'r':'.-.'\n",
    "  ,     's':'...'\n",
    "    ,   't':'-'\n",
    "    ,   'u':'..-'\n",
    "     ,  'v':'...-'\n",
    "       ,'w':'.--'\n",
    "       ,'x':'-..-'\n",
    "       ,'y':'-.--'\n",
    "       ,'z':'--..'\n",
    "       ,'0':'-----'\n",
    "       ,'1':'.----'\n",
    "       ,'2':'..---'\n",
    "       ,'3':'...--'\n",
    "       ,'4':'....-'\n",
    "       ,'5':'....'\n",
    "       ,'6':'-....'\n",
    "       ,'7':'--...'\n",
    "       ,'8':'---..'\n",
    "        ,'9':'----.'\n",
    "       \n",
    "       }"
   ]
  },
  {
   "cell_type": "code",
   "execution_count": 10,
   "metadata": {},
   "outputs": [
    {
     "data": {
      "text/plain": [
       "{'a': '_',\n",
       " 'b': '_...',\n",
       " 'c': '-.-.',\n",
       " 'd': '-..',\n",
       " 'e': '.',\n",
       " 'f': '..-.',\n",
       " 'g': '--.',\n",
       " 'h': '....',\n",
       " 'i': '..',\n",
       " 'j': '.---',\n",
       " 'k': '-.-',\n",
       " 'l': '.-..',\n",
       " 'm': '--',\n",
       " 'n': '-.',\n",
       " 'o': '---',\n",
       " 'p': '.--.',\n",
       " 'q': '--.-',\n",
       " 'r': '.-.',\n",
       " 's': '...',\n",
       " 't': '-',\n",
       " 'u': '..-',\n",
       " 'v': '...-',\n",
       " 'w': '.--',\n",
       " 'x': '-..-',\n",
       " 'y': '-.--',\n",
       " 'z': '--..',\n",
       " '0': '-----',\n",
       " '1': '.----',\n",
       " '2': '..---',\n",
       " '3': '...--',\n",
       " '4': '....-',\n",
       " '5': '....',\n",
       " '6': '-....',\n",
       " '7': '--...',\n",
       " '8': '---..',\n",
       " '9': '----.'}"
      ]
     },
     "execution_count": 10,
     "metadata": {},
     "output_type": "execute_result"
    }
   ],
   "source": [
    "code"
   ]
  },
  {
   "cell_type": "code",
   "execution_count": 14,
   "metadata": {},
   "outputs": [
    {
     "name": "stdout",
     "output_type": "stream",
     "text": [
      "Hello World!\n",
      ".... . .-.. .-.. --- .-- --- .-. .-.. -.. "
     ]
    }
   ],
   "source": [
    "send = input()\n",
    "send=send.lower()\n",
    "crack = []\n",
    "for i in range(len(send)):\n",
    "    for a,b in code.items():\n",
    "        if send[i]==a:\n",
    "            crack.append(b)\n",
    "for j in range(len(crack)):\n",
    "    print(crack[j],end=' ')\n",
    "            "
   ]
  },
  {
   "cell_type": "code",
   "execution_count": null,
   "metadata": {},
   "outputs": [],
   "source": []
  }
 ],
 "metadata": {
  "kernelspec": {
   "display_name": "Python 3",
   "language": "python",
   "name": "python3"
  },
  "language_info": {
   "codemirror_mode": {
    "name": "ipython",
    "version": 3
   },
   "file_extension": ".py",
   "mimetype": "text/x-python",
   "name": "python",
   "nbconvert_exporter": "python",
   "pygments_lexer": "ipython3",
   "version": "3.6.5"
  }
 },
 "nbformat": 4,
 "nbformat_minor": 2
}
