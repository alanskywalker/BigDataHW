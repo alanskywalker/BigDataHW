{
 "cells": [
  {
   "cell_type": "code",
   "execution_count": 38,
   "metadata": {},
   "outputs": [
    {
     "name": "stdout",
     "output_type": "stream",
     "text": [
      "hello, world!\n",
      "[4, 4, 3, 3, 5, 5, 5, 5, 5, 5, 6, 6, 6, 1, 1, 10, 9, 6, 6, 6, 7, 7, 7, 5, 5, 5, 3, 1, 1, 1, 1]\n"
     ]
    }
   ],
   "source": [
    "a=input()\n",
    "b=[['.',',','?','!',':'],['a','b','c'],['d','e','f'],\n",
    "   ['g','h','i'],['j','k','l'],\n",
    "   ['m','n','o'],['p','q','r','s'],\n",
    "  ['t','u','v'],['w','x','y','z'],[' ']]\n",
    "d=[]\n",
    "a=a.lower()\n",
    "for c in range(0,len(a)):\n",
    "    for i in range(10):\n",
    "        for j in range(0,len(b[i])):\n",
    "            if a[c] == b[i][j]:\n",
    "                for q in range(j+1):\n",
    "                    d.append(i+1)\n",
    "print(d)\n",
    "    "
   ]
  },
  {
   "cell_type": "code",
   "execution_count": 31,
   "metadata": {},
   "outputs": [
    {
     "name": "stdout",
     "output_type": "stream",
     "text": [
      "inindkd\n"
     ]
    },
    {
     "data": {
      "text/plain": [
       "str"
      ]
     },
     "execution_count": 31,
     "metadata": {},
     "output_type": "execute_result"
    }
   ],
   "source": [
    "l=input()\n",
    "type(l)"
   ]
  },
  {
   "cell_type": "code",
   "execution_count": null,
   "metadata": {},
   "outputs": [],
   "source": []
  }
 ],
 "metadata": {
  "kernelspec": {
   "display_name": "Python 3",
   "language": "python",
   "name": "python3"
  },
  "language_info": {
   "codemirror_mode": {
    "name": "ipython",
    "version": 3
   },
   "file_extension": ".py",
   "mimetype": "text/x-python",
   "name": "python",
   "nbconvert_exporter": "python",
   "pygments_lexer": "ipython3",
   "version": "3.6.5"
  }
 },
 "nbformat": 4,
 "nbformat_minor": 2
}
