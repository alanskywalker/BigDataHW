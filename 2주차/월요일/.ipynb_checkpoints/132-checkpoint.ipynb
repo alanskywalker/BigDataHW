{
 "cells": [
  {
   "cell_type": "code",
   "execution_count": 7,
   "metadata": {},
   "outputs": [],
   "source": [
    "trans = {'a':'Newfoundland'\n",
    "         ,'b':'Nova Scotia'\n",
    "       ,'c':'Prince Edward Island'\n",
    "       ,'e':'New Brunswick'\n",
    "       ,'g':'Quebec'\n",
    "       ,'h':'Quebec'\n",
    "       ,'j':'Quebec'\n",
    "       ,'k':'Ontario'\n",
    "       ,'l':'Ontario'\n",
    "       ,'m':'Ontario'\n",
    "       ,'n':'Ontario'\n",
    "       ,'p':'Ontario'\n",
    "       ,'r':'Manitoba'\n",
    "       ,'s':'Saskatchewan'\n",
    "       ,'t':'Alberta'\n",
    "       ,'v':'British Columbia'\n",
    "       ,'x':'Nunavut'\n",
    "       ,'x':'Northwest Territories'\n",
    "       ,'y':'Yukon'       \n",
    "        }\n"
   ]
  },
  {
   "cell_type": "code",
   "execution_count": 23,
   "metadata": {},
   "outputs": [
    {
     "name": "stdout",
     "output_type": "stream",
     "text": [
      "T2N 1N4\n",
      "urban address in Alberta\n"
     ]
    }
   ],
   "source": [
    "post = input()\n",
    "post = post.lower()\n",
    "if post[1] =='0':\n",
    "    print('rural address in',end=' ')\n",
    "else: \n",
    "    print('urban address in',end=' ')\n",
    "for i, j in trans.items():\n",
    "    if post[0]==i:\n",
    "        print(j)\n"
   ]
  },
  {
   "cell_type": "code",
   "execution_count": 13,
   "metadata": {},
   "outputs": [
    {
     "name": "stdout",
     "output_type": "stream",
     "text": [
      "a\n",
      "b\n",
      "c\n",
      "e\n",
      "g\n",
      "h\n",
      "j\n",
      "k\n",
      "l\n",
      "m\n",
      "n\n",
      "p\n",
      "r\n",
      "s\n",
      "t\n",
      "v\n",
      "x\n",
      "y\n"
     ]
    }
   ],
   "source": [
    "for i, j in trans.items():\n",
    "    print(i)"
   ]
  },
  {
   "cell_type": "code",
   "execution_count": 16,
   "metadata": {},
   "outputs": [
    {
     "name": "stdout",
     "output_type": "stream",
     "text": [
      "fdas\n",
      "d\n"
     ]
    }
   ],
   "source": [
    "a=input()\n",
    "print(a[1])"
   ]
  },
  {
   "cell_type": "code",
   "execution_count": null,
   "metadata": {},
   "outputs": [],
   "source": []
  }
 ],
 "metadata": {
  "kernelspec": {
   "display_name": "Python 3",
   "language": "python",
   "name": "python3"
  },
  "language_info": {
   "codemirror_mode": {
    "name": "ipython",
    "version": 3
   },
   "file_extension": ".py",
   "mimetype": "text/x-python",
   "name": "python",
   "nbconvert_exporter": "python",
   "pygments_lexer": "ipython3",
   "version": "3.6.5"
  }
 },
 "nbformat": 4,
 "nbformat_minor": 2
}
