{
 "cells": [
  {
   "cell_type": "code",
   "execution_count": 15,
   "metadata": {},
   "outputs": [
    {
     "name": "stdout",
     "output_type": "stream",
     "text": [
      "Total   SP    EP\n",
      "2     2.5   2.78\n",
      "3     2.3   2.78\n",
      "4     5.5   5.56\n",
      "5     9.4   8.33\n",
      "6     10.8   11.11\n",
      "7     13.9   13.89\n",
      "8     15.7   16.67\n",
      "9     14.5   13.89\n",
      "10   11.1   11.11\n",
      "11   8.8   8.33\n",
      "12   5.4   5.56\n"
     ]
    }
   ],
   "source": [
    "import random\n",
    "result = [0,0,0,0,0,0,0,0,0,0,0]\n",
    "for a in range(1,1000):\n",
    "        b=random.randrange(1,7)\n",
    "        c=random.randrange(1,7)\n",
    "        result[b+c-2]+=1\n",
    "expect = [2.78, 5.56, 8.33, 11.11, 13.89, 16.67, 13.89, 11.11, 8.33, 5.56, 2.78]\n",
    "\n",
    "print('Total',' ','SP','  ','EP')\n",
    "for a in range(11):\n",
    "    if a>7:\n",
    "         print(a+2,' ',result[a-1]/10,' ',expect[a-1])\n",
    "    else: print(a+2,'   ',result[a-1]/10,' ',expect[a-1])"
   ]
  },
  {
   "cell_type": "code",
   "execution_count": null,
   "metadata": {},
   "outputs": [],
   "source": []
  }
 ],
 "metadata": {
  "kernelspec": {
   "display_name": "Python 3",
   "language": "python",
   "name": "python3"
  },
  "language_info": {
   "codemirror_mode": {
    "name": "ipython",
    "version": 3
   },
   "file_extension": ".py",
   "mimetype": "text/x-python",
   "name": "python",
   "nbconvert_exporter": "python",
   "pygments_lexer": "ipython3",
   "version": "3.6.5"
  }
 },
 "nbformat": 4,
 "nbformat_minor": 2
}
