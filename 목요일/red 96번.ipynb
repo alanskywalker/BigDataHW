{
 "cells": [
  {
   "cell_type": "code",
   "execution_count": 35,
   "metadata": {},
   "outputs": [],
   "source": [
    "num = []\n",
    "up = []\n",
    "low = []\n",
    "def psw():\n",
    "    a = input()\n",
    "    for i in range(0,len(a)):\n",
    "        if '0'<=a[i]<='9':\n",
    "            num.append(a[i])\n",
    "\n",
    "        elif 'A'<=a[i]<='Z':\n",
    "            up.append(a[i])\n",
    "\n",
    "        elif 'a'<=a[i]<='z':\n",
    "            low.append(a[i])\n",
    "            print(len(num),len(up),len(low))\n",
    "    if len(num)*len(up)*len(low)==0:\n",
    "        print('low security')\n",
    "        return False\n",
    "    if len(a)<=8:\n",
    "        print('too short')\n",
    "        return False\n",
    "    return True\n",
    "    "
   ]
  },
  {
   "cell_type": "code",
   "execution_count": 36,
   "metadata": {},
   "outputs": [
    {
     "name": "stdout",
     "output_type": "stream",
     "text": [
      "12321321321\n",
      "low security\n"
     ]
    },
    {
     "data": {
      "text/plain": [
       "False"
      ]
     },
     "execution_count": 36,
     "metadata": {},
     "output_type": "execute_result"
    }
   ],
   "source": [
    "psw()"
   ]
  },
  {
   "cell_type": "code",
   "execution_count": 15,
   "metadata": {},
   "outputs": [
    {
     "data": {
      "text/plain": [
       "True"
      ]
     },
     "execution_count": 15,
     "metadata": {},
     "output_type": "execute_result"
    }
   ],
   "source": [
    "'A'<'B'<'Z'"
   ]
  },
  {
   "cell_type": "code",
   "execution_count": null,
   "metadata": {},
   "outputs": [],
   "source": []
  }
 ],
 "metadata": {
  "kernelspec": {
   "display_name": "Python 3",
   "language": "python",
   "name": "python3"
  },
  "language_info": {
   "codemirror_mode": {
    "name": "ipython",
    "version": 3
   },
   "file_extension": ".py",
   "mimetype": "text/x-python",
   "name": "python",
   "nbconvert_exporter": "python",
   "pygments_lexer": "ipython3",
   "version": "3.6.5"
  }
 },
 "nbformat": 4,
 "nbformat_minor": 2
}
