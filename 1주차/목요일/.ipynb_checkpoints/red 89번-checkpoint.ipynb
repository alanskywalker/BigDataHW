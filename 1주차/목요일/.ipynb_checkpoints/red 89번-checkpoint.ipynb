{
 "cells": [
  {
   "cell_type": "code",
   "execution_count": 42,
   "metadata": {},
   "outputs": [
    {
     "name": "stdout",
     "output_type": "stream",
     "text": [
      "what time do i have to be there? what's the address\n",
      "What tIme do I have to be there? What's the address"
     ]
    }
   ],
   "source": [
    "sentence = input()\n",
    "char = list(sentence)\n",
    "char[0] = char[0].upper()\n",
    "for a in range(0,len(char)-1):\n",
    "    if char[a]=='i':\n",
    "        char[a]='I'\n",
    "    if char[a]=='.' or char[a]==',' or char[a]=='!' or char[a]=='?':\n",
    "        for b in range(1,100):\n",
    "            if char[a+b] != ' ':\n",
    "                char[a+b] = char[a+b].upper()\n",
    "                break\n",
    "\n",
    "#print(char)\n",
    "for q in range(0,len(char)):\n",
    "    print(char[q],end='')\n",
    "                \n",
    "    \n",
    "        "
   ]
  },
  {
   "cell_type": "code",
   "execution_count": null,
   "metadata": {},
   "outputs": [],
   "source": []
  }
 ],
 "metadata": {
  "kernelspec": {
   "display_name": "Python 3",
   "language": "python",
   "name": "python3"
  },
  "language_info": {
   "codemirror_mode": {
    "name": "ipython",
    "version": 3
   },
   "file_extension": ".py",
   "mimetype": "text/x-python",
   "name": "python",
   "nbconvert_exporter": "python",
   "pygments_lexer": "ipython3",
   "version": "3.6.5"
  }
 },
 "nbformat": 4,
 "nbformat_minor": 2
}
