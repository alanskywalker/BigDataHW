{
 "cells": [
  {
   "cell_type": "code",
   "execution_count": 2,
   "metadata": {},
   "outputs": [
    {
     "name": "stdout",
     "output_type": "stream",
     "text": [
      "A\n",
      "A+\n",
      "a+\n",
      "b+\n",
      " \n",
      "4.125\n"
     ]
    }
   ],
   "source": [
    "list = []\n",
    "count = 0\n",
    "while True:\n",
    "    a = input()\n",
    "    if a=='a+' or a=='A+':\n",
    "        list.append(4.5)\n",
    "        count+=1\n",
    "    elif a=='a' or a=='A' or a =='a0' or a =='A0':\n",
    "        list.append(4.0)\n",
    "        count+=1\n",
    "    elif a=='b+' or a=='B+':\n",
    "        list.append(3.5)\n",
    "        count+=1\n",
    "    elif a=='b' or a=='B' or a =='b0' or a =='B0':\n",
    "        list.append(3.0)\n",
    "        count+=1\n",
    "    elif a=='c+' or a=='C+':\n",
    "        list.append(2.5)\n",
    "        count+=1\n",
    "    elif a=='c' or a=='C' or a =='c0' or a =='c0':\n",
    "        list.append(2.0)\n",
    "        count+=1\n",
    "    elif a=='d+' or a=='D+':\n",
    "        list.append(1.5)\n",
    "        count+=1\n",
    "    elif a=='b' or a=='D' or a =='d0' or a =='D0':\n",
    "        list.append(1.0)\n",
    "        count+=1\n",
    "    elif a=='f' or a=='F':\n",
    "        list.append(1.0)\n",
    "        count+=1\n",
    "    elif a== ' ':\n",
    "        break\n",
    "result = 0\n",
    "for i in list:\n",
    "    result +=i\n",
    "print(result/count)"
   ]
  },
  {
   "cell_type": "code",
   "execution_count": null,
   "metadata": {},
   "outputs": [],
   "source": []
  }
 ],
 "metadata": {
  "kernelspec": {
   "display_name": "Python 3",
   "language": "python",
   "name": "python3"
  },
  "language_info": {
   "codemirror_mode": {
    "name": "ipython",
    "version": 3
   },
   "file_extension": ".py",
   "mimetype": "text/x-python",
   "name": "python",
   "nbconvert_exporter": "python",
   "pygments_lexer": "ipython3",
   "version": "3.6.5"
  }
 },
 "nbformat": 4,
 "nbformat_minor": 2
}
