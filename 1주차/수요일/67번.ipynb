{
 "cells": [
  {
   "cell_type": "markdown",
   "metadata": {},
   "source": [
    "### 67번"
   ]
  },
  {
   "cell_type": "code",
   "execution_count": 2,
   "metadata": {},
   "outputs": [
    {
     "name": "stdout",
     "output_type": "stream",
     "text": [
      "1\n",
      "cell\n",
      "2\n",
      "cell\n",
      "3\n",
      "baby\n",
      "4\n",
      "baby\n",
      "5\n",
      "baby\n",
      "66\n",
      "granny\n",
      "0\n",
      "total cost:  60 $\n"
     ]
    }
   ],
   "source": [
    "total = 0\n",
    "while True:\n",
    "    a = int(input())\n",
    "    if a==0:\n",
    "        break\n",
    "    elif a<3:\n",
    "        print('cell')\n",
    "        continue\n",
    "    elif 3<=a<=12:\n",
    "        total+=14\n",
    "        print('baby')\n",
    "    elif 65<a:\n",
    "        total+=18\n",
    "        print('granny')   \n",
    "    else:\n",
    "        print('general')\n",
    "        total+=23\n",
    "print('total cost: ',total,'$')\n",
    "        "
   ]
  },
  {
   "cell_type": "code",
   "execution_count": null,
   "metadata": {},
   "outputs": [],
   "source": []
  },
  {
   "cell_type": "code",
   "execution_count": null,
   "metadata": {},
   "outputs": [],
   "source": []
  },
  {
   "cell_type": "code",
   "execution_count": null,
   "metadata": {},
   "outputs": [],
   "source": []
  }
 ],
 "metadata": {
  "kernelspec": {
   "display_name": "Python 3",
   "language": "python",
   "name": "python3"
  }
 },
 "nbformat": 4,
 "nbformat_minor": 2
}
