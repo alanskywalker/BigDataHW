{
 "cells": [
  {
   "cell_type": "code",
   "execution_count": 2,
   "metadata": {},
   "outputs": [],
   "source": [
    "a=range(10)"
   ]
  },
  {
   "cell_type": "code",
   "execution_count": 3,
   "metadata": {},
   "outputs": [
    {
     "data": {
      "text/plain": [
       "range(0, 10)"
      ]
     },
     "execution_count": 3,
     "metadata": {},
     "output_type": "execute_result"
    }
   ],
   "source": [
    "a"
   ]
  },
  {
   "cell_type": "code",
   "execution_count": 9,
   "metadata": {},
   "outputs": [
    {
     "name": "stdout",
     "output_type": "stream",
     "text": [
      "Celsius:  10 Fahrenheit:  50.00\n",
      "Celsius:  20 Fahrenheit:  68.00\n",
      "Celsius:  30 Fahrenheit:  86.00\n",
      "Celsius:  40 Fahrenheit:  104.00\n",
      "Celsius:  50 Fahrenheit:  122.00\n",
      "Celsius:  60 Fahrenheit:  140.00\n",
      "Celsius:  70 Fahrenheit:  158.00\n",
      "Celsius:  80 Fahrenheit:  176.00\n",
      "Celsius:  90 Fahrenheit:  194.00\n",
      "Celsius:  100 Fahrenheit:  212.00\n"
     ]
    }
   ],
   "source": [
    "for a in range(1,11):\n",
    "    b=a*10*1.8+32\n",
    "    print('Celsius: ',a*10 ,'Fahrenheit: ','%.2f'%b)"
   ]
  },
  {
   "cell_type": "code",
   "execution_count": null,
   "metadata": {},
   "outputs": [],
   "source": []
  }
 ],
 "metadata": {
  "kernelspec": {
   "display_name": "Python 3",
   "language": "python",
   "name": "python3"
  },
  "language_info": {
   "codemirror_mode": {
    "name": "ipython",
    "version": 3
   },
   "file_extension": ".py",
   "mimetype": "text/x-python",
   "name": "python",
   "nbconvert_exporter": "python",
   "pygments_lexer": "ipython3",
   "version": "3.6.5"
  }
 },
 "nbformat": 4,
 "nbformat_minor": 2
}
