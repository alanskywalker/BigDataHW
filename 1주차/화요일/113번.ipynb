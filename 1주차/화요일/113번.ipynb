{
 "cells": [
  {
   "cell_type": "markdown",
   "metadata": {},
   "source": [
    "### 113번"
   ]
  },
  {
   "cell_type": "code",
   "execution_count": 3,
   "metadata": {},
   "outputs": [
    {
     "name": "stdout",
     "output_type": "stream",
     "text": [
      "blank to finish apples\n",
      "blank to finish  \n",
      "apples\n"
     ]
    }
   ],
   "source": [
    "list = []\n",
    "def get():\n",
    "    count = 0\n",
    "    while True:\n",
    "        a=input('blank to finish ')\n",
    "        if a==' ':\n",
    "            break\n",
    "        count = count+1\n",
    "        list.append(a)\n",
    "    if count==0:\n",
    "        print('no input')\n",
    "        return\n",
    "    elif count==1:\n",
    "        print(list[0])\n",
    "        return\n",
    "    elif count==2:\n",
    "        print(list[0],' and ',list[1])\n",
    "    else:\n",
    "        for i in list:\n",
    "            if(count==1):\n",
    "                print('and ',i)\n",
    "                return\n",
    "            print(i,end=', ')\n",
    "            count = count-1\n",
    "\n",
    "get()\n"
   ]
  },
  {
   "cell_type": "code",
   "execution_count": 4,
   "metadata": {},
   "outputs": [
    {
     "name": "stdout",
     "output_type": "stream",
     "text": [
      "blank to finish apples\n",
      "blank to finish oranges\n",
      "blank to finish  \n",
      "apples  and  oranges\n"
     ]
    }
   ],
   "source": [
    "list = []\n",
    "get()"
   ]
  },
  {
   "cell_type": "code",
   "execution_count": 5,
   "metadata": {},
   "outputs": [
    {
     "name": "stdout",
     "output_type": "stream",
     "text": [
      "blank to finish apples\n",
      "blank to finish oranges\n",
      "blank to finish bananas\n",
      "blank to finish lemons\n",
      "blank to finish  \n",
      "apples, oranges, bananas, and  lemons\n"
     ]
    }
   ],
   "source": [
    "list = []\n",
    "get()"
   ]
  },
  {
   "cell_type": "code",
   "execution_count": null,
   "metadata": {},
   "outputs": [],
   "source": []
  }
 ],
 "metadata": {
  "kernelspec": {
   "display_name": "Python 3",
   "language": "python",
   "name": "python3"
  }
 },
 "nbformat": 4,
 "nbformat_minor": 2
}
