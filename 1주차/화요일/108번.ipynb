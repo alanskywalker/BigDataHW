{
 "cells": [
  {
   "cell_type": "markdown",
   "metadata": {},
   "source": [
    "### 108번"
   ]
  },
  {
   "cell_type": "code",
   "execution_count": 4,
   "metadata": {},
   "outputs": [
    {
     "name": "stdout",
     "output_type": "stream",
     "text": [
      "3\n",
      "-4\n",
      "1\n",
      "0\n",
      "-1\n",
      "0\n",
      "-2\n",
      " \n"
     ]
    },
    {
     "data": {
      "text/plain": [
       "[-4, -1, -2, 0, 0, 3, 1]"
      ]
     },
     "execution_count": 4,
     "metadata": {},
     "output_type": "execute_result"
    }
   ],
   "source": [
    "i=0\n",
    "i = []\n",
    "j=[]\n",
    "k=[]\n",
    "while True:\n",
    "    a=input()\n",
    "    if a==' ':\n",
    "        break\n",
    "    a=int(a)\n",
    "    if(a<0):\n",
    "        i.append(a)\n",
    "    elif(a==0):\n",
    "        j.append(a)\n",
    "    elif(a>0):\n",
    "        k.append(a)\n",
    "result = i+j+k\n",
    "result"
   ]
  },
  {
   "cell_type": "code",
   "execution_count": null,
   "metadata": {},
   "outputs": [],
   "source": []
  }
 ],
 "metadata": {
  "kernelspec": {
   "display_name": "Python 3",
   "language": "python",
   "name": "python3"
  },
  "language_info": {
   "codemirror_mode": {
    "name": "ipython",
    "version": 3
   },
   "file_extension": ".py",
   "mimetype": "text/x-python",
   "name": "python",
   "nbconvert_exporter": "python",
   "pygments_lexer": "ipython3",
   "version": "3.6.5"
  }
 },
 "nbformat": 4,
 "nbformat_minor": 2
}
