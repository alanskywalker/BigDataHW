{
 "cells": [
  {
   "cell_type": "markdown",
   "metadata": {},
   "source": [
    "### 110-1"
   ]
  },
  {
   "cell_type": "code",
   "execution_count": 5,
   "metadata": {},
   "outputs": [
    {
     "name": "stdout",
     "output_type": "stream",
     "text": [
      "숫자입력하세요28\n"
     ]
    },
    {
     "data": {
      "text/plain": [
       "True"
      ]
     },
     "execution_count": 5,
     "metadata": {},
     "output_type": "execute_result"
    }
   ],
   "source": [
    "c=int(input('숫자입력하세요'))\n",
    "\n",
    "b=1\n",
    "def judge(c):\n",
    "    a=0\n",
    "    for b in range (1,c):\n",
    "        if(c%b)==0:\n",
    "            a=a+b\n",
    "    if a==c:\n",
    "        return True\n",
    "    else:\n",
    "        return False\n",
    "judge(c)"
   ]
  },
  {
   "cell_type": "markdown",
   "metadata": {},
   "source": [
    "### 110-2"
   ]
  },
  {
   "cell_type": "code",
   "execution_count": 6,
   "metadata": {},
   "outputs": [
    {
     "name": "stdout",
     "output_type": "stream",
     "text": [
      "얼마까지?(10000)10000\n"
     ]
    },
    {
     "data": {
      "text/plain": [
       "[6, 28, 496, 8128]"
      ]
     },
     "execution_count": 6,
     "metadata": {},
     "output_type": "execute_result"
    }
   ],
   "source": [
    "max= int(input('얼마까지?(10000)'))\n",
    "\n",
    "문근영 = []\n",
    "\n",
    "\n",
    "b=1\n",
    "c=2\n",
    "while c<max:\n",
    "    a=0\n",
    "    for b in range (1,c):\n",
    "        if(c%b)==0:\n",
    "            a=a+b\n",
    "    if a==c:\n",
    "        문근영.append(a)\n",
    "    c=c+1\n",
    "    b=1\n",
    "문근영"
   ]
  },
  {
   "cell_type": "code",
   "execution_count": null,
   "metadata": {},
   "outputs": [],
   "source": []
  }
 ],
 "metadata": {
  "kernelspec": {
   "display_name": "Python 3",
   "language": "python",
   "name": "python3"
  },
  "language_info": {
   "codemirror_mode": {
    "name": "ipython",
    "version": 3
   },
   "file_extension": ".py",
   "mimetype": "text/x-python",
   "name": "python",
   "nbconvert_exporter": "python",
   "pygments_lexer": "ipython3",
   "version": "3.6.5"
  }
 },
 "nbformat": 4,
 "nbformat_minor": 2
}
