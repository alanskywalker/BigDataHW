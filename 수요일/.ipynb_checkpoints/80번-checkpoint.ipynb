{
 "cells": [
  {
   "cell_type": "code",
   "execution_count": 10,
   "metadata": {},
   "outputs": [
    {
     "name": "stdout",
     "output_type": "stream",
     "text": [
      "시뮬레이션 몇번할까요?10\n",
      "H H H H H T T H H H T ( 11 flips)\n",
      "T H H T H T ( 6 flips)\n",
      "T H H T H T ( 6 flips)\n",
      "H H T T H T ( 6 flips)\n",
      "H T H H T T ( 6 flips)\n",
      "T H T H H T ( 6 flips)\n",
      "H T H H T H T ( 7 flips)\n",
      "T T H H T ( 5 flips)\n",
      "T T T ( 3 flips)\n",
      "T T T ( 3 flips)\n",
      "On average,  5.9  flips were needed\n"
     ]
    }
   ],
   "source": [
    "import random\n",
    "total=0\n",
    "k = int(input('시뮬레이션 몇번할까요?'))\n",
    "for a in range(0,k):\n",
    "    flips = 0\n",
    "    count = 0\n",
    "    while True:\n",
    "\n",
    "        a=random.random()\n",
    "        if(a>0.5):\n",
    "            result = 'H'\n",
    "            flips = flips+1\n",
    "            print('H', end = ' ')\n",
    "        else:\n",
    "            result = 'T'\n",
    "            count = count+1\n",
    "            flips = flips+1\n",
    "            print('T', end = ' ')\n",
    "        if count ==3:\n",
    "            total = total+flips\n",
    "            print('(',flips, 'flips)')\n",
    "            break\n",
    "print('On average, ',(total/k),' flips were needed')"
   ]
  },
  {
   "cell_type": "code",
   "execution_count": null,
   "metadata": {},
   "outputs": [],
   "source": []
  },
  {
   "cell_type": "code",
   "execution_count": null,
   "metadata": {},
   "outputs": [],
   "source": []
  }
 ],
 "metadata": {
  "kernelspec": {
   "display_name": "Python 3",
   "language": "python",
   "name": "python3"
  },
  "language_info": {
   "codemirror_mode": {
    "name": "ipython",
    "version": 3
   },
   "file_extension": ".py",
   "mimetype": "text/x-python",
   "name": "python",
   "nbconvert_exporter": "python",
   "pygments_lexer": "ipython3",
   "version": "3.6.5"
  }
 },
 "nbformat": 4,
 "nbformat_minor": 2
}
