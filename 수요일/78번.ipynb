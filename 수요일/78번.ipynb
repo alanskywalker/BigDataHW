{
 "cells": [
  {
   "cell_type": "code",
   "execution_count": null,
   "metadata": {},
   "outputs": [],
   "source": [
    "a = int(input())\n",
    "result = \"\"\n",
    "while True:\n",
    "    b=a%2\n",
    "    ##print(b)\n",
    "    result = str(b)+result\n",
    "    a=int(a/2)\n",
    "    if a==0:\n",
    "        break\n",
    "print(result)\n",
    "\n",
    "print('back testing')\n",
    "a = int(result)\n",
    "result =0\n",
    "double = 1\n",
    "while True:\n",
    "    b=a%10\n",
    "    a=int(a/10)\n",
    "    ##print(a,b)\n",
    "    result=b*double+result\n",
    "    double = double*2\n",
    "    if a<1 :\n",
    "        break\n",
    "print(result)"
   ]
  },
  {
   "cell_type": "code",
   "execution_count": null,
   "metadata": {},
   "outputs": [],
   "source": []
  }
 ],
 "metadata": {
  "kernelspec": {
   "display_name": "Python 3",
   "language": "python",
   "name": "python3"
  },
  "language_info": {
   "codemirror_mode": {
    "name": "ipython",
    "version": 3
   },
   "file_extension": ".py",
   "mimetype": "text/x-python",
   "name": "python",
   "nbconvert_exporter": "python",
   "pygments_lexer": "ipython3",
   "version": "3.6.5"
  }
 },
 "nbformat": 4,
 "nbformat_minor": 2
}
